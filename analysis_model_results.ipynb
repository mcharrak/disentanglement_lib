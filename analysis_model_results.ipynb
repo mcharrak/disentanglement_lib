{
 "cells": [
  {
   "cell_type": "code",
   "execution_count": 1,
   "metadata": {},
   "outputs": [],
   "source": [
    "from disentanglement_lib.utils import aggregate_results\n",
    "import pandas as pd\n",
    "import numpy as np"
   ]
  },
  {
   "cell_type": "code",
   "execution_count": 2,
   "metadata": {},
   "outputs": [
    {
     "name": "stdout",
     "output_type": "stream",
     "text": [
      "The datasets to choose from are: [\"'cars3d'\", \"'color_dsprites'\", \"'dsprites_full'\", \"'noisy_dsprites'\", \"'scream_dsprites'\", \"'smallnorb'\"]\n",
      "The models to choose from are: [\"'annealed_vae'\", \"'beta_tc_vae'\", \"'beta_vae'\", \"'dip_vae_i'\", \"'dip_vae_ii'\", \"'factor_vae'\"]\n"
     ]
    }
   ],
   "source": [
    "# specify path to .json file containing aggregated results and metrics of all models\n",
    "RESULTS_PATH = \"output_directory/aggregated_results.json\"\n",
    "\n",
    "# load results dataframe for model inspection\n",
    "df = aggregate_results.load_aggregated_json_results(RESULTS_PATH)\n",
    "\n",
    "# print existing dataset names in dataframe\n",
    "print(\"The datasets to choose from are: {}\".format(list(np.unique(df[\"evaluation_config.dataset.name\"]))))\n",
    "\n",
    "# print existing model names in dataframe\n",
    "print(\"The models to choose from are: {}\".format(list(np.unique(df[\"train_config.model.name\"]))))"
   ]
  },
  {
   "cell_type": "code",
   "execution_count": 3,
   "metadata": {},
   "outputs": [
    {
     "name": "stdout",
     "output_type": "stream",
     "text": [
      "'dsprites_full' min disentanglement score with 'beta_vae' model at: output_directory/69/metrics/sampled/dci/results/aggregate/evaluation.json\n",
      "'dsprites_full' median disentanglement score with 'beta_vae' model at: output_directory/115/metrics/mean/dci/results/aggregate/evaluation.json\n",
      "'dsprites_full' max disentanglement score with 'beta_vae' model at: output_directory/276/metrics/mean/dci/results/aggregate/evaluation.json\n"
     ]
    }
   ],
   "source": [
    "# dsprites beta-vae models index/folder-number\n",
    "DATASET_NAME = \"'dsprites_full'\"\n",
    "MODEL_NAME = \"'beta_vae'\"\n",
    "\n",
    "print(\"{} min disentanglement score with {} model at: {}\".format(DATASET_NAME, MODEL_NAME, df[\"path\"][df.loc[(df['evaluation_config.dataset.name'] == DATASET_NAME) & (df['train_config.model.name'] == MODEL_NAME)][\"evaluation_results.disentanglement\"].idxmin()]))\n",
    "vals = df.loc[(df['evaluation_config.dataset.name'] == DATASET_NAME) & (df['train_config.model.name'] == MODEL_NAME)][\"evaluation_results.disentanglement\"].sort_values().dropna()\n",
    "vals_median_pos = round(len(vals)/2)\n",
    "median_idx = vals.index[vals_median_pos]\n",
    "vals[median_idx]\n",
    "print(\"{} median disentanglement score with {} model at: {}\".format(DATASET_NAME, MODEL_NAME, df[\"path\"][median_idx]))\n",
    "print(\"{} max disentanglement score with {} model at: {}\".format(DATASET_NAME, MODEL_NAME, df[\"path\"][df.loc[(df['evaluation_config.dataset.name'] == DATASET_NAME) & (df['train_config.model.name'] == MODEL_NAME)][\"evaluation_results.disentanglement\"].idxmax()]))"
   ]
  },
  {
   "cell_type": "code",
   "execution_count": 4,
   "metadata": {},
   "outputs": [
    {
     "name": "stdout",
     "output_type": "stream",
     "text": [
      "'smallnorb' min disentanglement score with 'beta_vae' model at: output_directory/7484/metrics/mean/dci/results/aggregate/evaluation.json\n",
      "'smallnorb' median disentanglement score with 'beta_vae' model at: output_directory/7418/metrics/mean/dci/results/aggregate/evaluation.json\n",
      "'smallnorb' max disentanglement score with 'beta_vae' model at: output_directory/7279/metrics/mean/dci/results/aggregate/evaluation.json\n"
     ]
    }
   ],
   "source": [
    "# smallnorb models index/folder-number\n",
    "DATASET_NAME = \"'smallnorb'\"\n",
    "MODEL_NAME = \"'beta_vae'\"\n",
    "\n",
    "print(\"{} min disentanglement score with {} model at: {}\".format(DATASET_NAME, MODEL_NAME, df[\"path\"][df.loc[(df['evaluation_config.dataset.name'] == DATASET_NAME) & (df['train_config.model.name'] == MODEL_NAME)][\"evaluation_results.disentanglement\"].idxmin()]))\n",
    "vals = df.loc[(df['evaluation_config.dataset.name'] == DATASET_NAME) & (df['train_config.model.name'] == MODEL_NAME)][\"evaluation_results.disentanglement\"].sort_values().dropna()\n",
    "vals_median_pos = round(len(vals)/2)\n",
    "median_idx = vals.index[vals_median_pos]\n",
    "vals[median_idx]\n",
    "print(\"{} median disentanglement score with {} model at: {}\".format(DATASET_NAME, MODEL_NAME, df[\"path\"][median_idx]))\n",
    "print(\"{} max disentanglement score with {} model at: {}\".format(DATASET_NAME, MODEL_NAME, df[\"path\"][df.loc[(df['evaluation_config.dataset.name'] == DATASET_NAME) & (df['train_config.model.name'] == MODEL_NAME)][\"evaluation_results.disentanglement\"].idxmax()]))"
   ]
  },
  {
   "cell_type": "code",
   "execution_count": 5,
   "metadata": {},
   "outputs": [
    {
     "name": "stdout",
     "output_type": "stream",
     "text": [
      "'cars3d' min disentanglement score with 'beta_vae' model at: output_directory/9017/metrics/sampled/dci/results/aggregate/evaluation.json\n",
      "'cars3d' median disentanglement score with 'beta_vae' model at: output_directory/9094/metrics/mean/dci/results/aggregate/evaluation.json\n",
      "'cars3d' max disentanglement score with 'beta_vae' model at: output_directory/9216/metrics/sampled/dci/results/aggregate/evaluation.json\n"
     ]
    }
   ],
   "source": [
    "# cars3d models index/folder-number\n",
    "DATASET_NAME = \"'cars3d'\"\n",
    "MODEL_NAME = \"'beta_vae'\"\n",
    "\n",
    "print(\"{} min disentanglement score with {} model at: {}\".format(DATASET_NAME, MODEL_NAME, df[\"path\"][df.loc[(df['evaluation_config.dataset.name'] == DATASET_NAME) & (df['train_config.model.name'] == MODEL_NAME)][\"evaluation_results.disentanglement\"].idxmin()]))\n",
    "vals = df.loc[(df['evaluation_config.dataset.name'] == DATASET_NAME) & (df['train_config.model.name'] == MODEL_NAME)][\"evaluation_results.disentanglement\"].sort_values().dropna()\n",
    "vals_median_pos = round(len(vals)/2)\n",
    "median_idx = vals.index[vals_median_pos]\n",
    "vals[median_idx]\n",
    "print(\"{} median disentanglement score with {} model at: {}\".format(DATASET_NAME, MODEL_NAME, df[\"path\"][median_idx]))\n",
    "print(\"{} max disentanglement score with {} model at: {}\".format(DATASET_NAME, MODEL_NAME, df[\"path\"][df.loc[(df['evaluation_config.dataset.name'] == DATASET_NAME) & (df['train_config.model.name'] == MODEL_NAME)][\"evaluation_results.disentanglement\"].idxmax()]))"
   ]
  }
 ],
 "metadata": {
  "kernelspec": {
   "display_name": "Python 3",
   "language": "python",
   "name": "python3"
  },
  "language_info": {
   "codemirror_mode": {
    "name": "ipython",
    "version": 3
   },
   "file_extension": ".py",
   "mimetype": "text/x-python",
   "name": "python",
   "nbconvert_exporter": "python",
   "pygments_lexer": "ipython3",
   "version": "3.7.4"
  }
 },
 "nbformat": 4,
 "nbformat_minor": 4
}
